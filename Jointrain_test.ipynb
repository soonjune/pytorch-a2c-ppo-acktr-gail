{
 "cells": [
  {
   "cell_type": "code",
   "execution_count": 2,
   "metadata": {},
   "outputs": [],
   "source": [
    "import copy\n",
    "import glob\n",
    "import os\n",
    "import time\n",
    "import datetime\n",
    "import csv\n",
    "import matplotlib.pyplot as plt\n",
    "from collections import deque\n",
    "\n",
    "import gym\n",
    "import numpy as np\n",
    "import torch\n",
    "import torch.nn as nn\n",
    "import torch.nn.functional as F\n",
    "import torch.optim as optim\n",
    "\n",
    "from a2c_ppo_acktr import algo, utils\n",
    "from a2c_ppo_acktr.arguments import get_args\n",
    "from a2c_ppo_acktr.envs import make_vec_envs\n",
    "from a2c_ppo_acktr.model import Policy, Bandit_Policy\n",
    "from a2c_ppo_acktr.storage import RolloutStorage, SkipReplayBuffer\n",
    "from evaluation import evaluate\n",
    "from sb3_contrib import QRDQN, TQC, TRPO\n",
    "from stable_baselines3 import A2C, DDPG, DQN, PPO, SAC, TD3"
   ]
  },
  {
   "cell_type": "code",
   "execution_count": 10,
   "metadata": {},
   "outputs": [],
   "source": [
    "ALGOS = {\n",
    "    \"a2c\": A2C,\n",
    "    \"ddpg\": DDPG,\n",
    "    \"dqn\": DQN,\n",
    "    \"ppo\": PPO,\n",
    "    \"sac\": SAC,\n",
    "    \"td3\": TD3,\n",
    "    # SB3 Contrib,\n",
    "    \"qrdqn\": QRDQN,\n",
    "    \"tqc\": TQC,\n",
    "    \"trpo\": TRPO,\n",
    "}\n",
    "\n",
    "algo = \"dqn\"\n",
    "env_id = \"BreakoutNoFrameskip-v4\"\n",
    "seed = 1\n",
    "num_processes = 1\n",
    "device = \"cpu\"\n",
    "eval_log_dir = \"./\"\n",
    "\n",
    "model_path = os.path.join('./rl-trained-agents/' , algo, env_id+\"_1\", env_id+\".zip\") \n",
    "bandit_path = os.path.join('./experiments/' , env_id, \"bdqn\", \"20220106T224832.135078\", \"trained_models\" , env_id+\".pt\")\n",
    "env = make_vec_envs(env_id, seed, num_processes, 0.99, eval_log_dir, device, False)\n",
    "model = ALGOS[algo].load(model_path, env=env)\n"
   ]
  },
  {
   "cell_type": "code",
   "execution_count": null,
   "metadata": {},
   "outputs": [],
   "source": [
    "model.replay_buffer.add\n",
    "model."
   ]
  },
  {
   "cell_type": "code",
   "execution_count": 14,
   "metadata": {},
   "outputs": [],
   "source": [
    "bandit_net = torch.load(bandit_path, map_location=torch.device('cpu'))[1]\n",
    "theta = torch.load(bandit_path, map_location=torch.device('cpu'))[2]"
   ]
  },
  {
   "cell_type": "code",
   "execution_count": 50,
   "metadata": {},
   "outputs": [],
   "source": [
    "obs = env.reset()\n",
    "deterministic = False # Deterministic by default except for atari games\n",
    "state = None\n",
    "episode_reward = 0.0\n",
    "episode_rewards, episode_lengths = [], []\n",
    "ep_len = 0\n",
    "eval_episode_rewards = []"
   ]
  },
  {
   "cell_type": "code",
   "execution_count": 51,
   "metadata": {},
   "outputs": [],
   "source": [
    "while len(eval_episode_rewards) < 1:\n",
    "    action, state = model.predict(obs.numpy(), state=state, deterministic=deterministic)\n",
    "    obs, reward, done, infos = env.step(torch.tensor([action]))\n",
    "    \n",
    "    episode_reward += reward[0]\n",
    "    ep_len += 1\n",
    "\n",
    "    for info in infos:\n",
    "        if 'episode' in info.keys():\n",
    "            eval_episode_rewards.append(info['episode']['r'])\n",
    "\n",
    "    "
   ]
  },
  {
   "cell_type": "code",
   "execution_count": 52,
   "metadata": {},
   "outputs": [
    {
     "name": "stdout",
     "output_type": "stream",
     "text": [
      " Evaluation using 1 episodes: mean reward 375.00000\n",
      "\n"
     ]
    }
   ],
   "source": [
    "print(\" Evaluation using {} episodes: mean reward {:.5f}\\n\".format(\n",
    "        len(eval_episode_rewards), np.mean(eval_episode_rewards)))"
   ]
  },
  {
   "cell_type": "code",
   "execution_count": 53,
   "metadata": {},
   "outputs": [
    {
     "data": {
      "text/plain": [
       "196"
      ]
     },
     "execution_count": 53,
     "metadata": {},
     "output_type": "execute_result"
    }
   ],
   "source": [
    "ep_len \n"
   ]
  },
  {
   "cell_type": "code",
   "execution_count": 10,
   "metadata": {},
   "outputs": [
    {
     "ename": "AttributeError",
     "evalue": "'DQN' object has no attribute 'recurrent_hidden_state_size'",
     "output_type": "error",
     "traceback": [
      "\u001b[0;31m---------------------------------------------------------------------------\u001b[0m",
      "\u001b[0;31mAttributeError\u001b[0m                            Traceback (most recent call last)",
      "\u001b[0;32m/tmp/ipykernel_77077/1551132525.py\u001b[0m in \u001b[0;36m<module>\u001b[0;34m\u001b[0m\n\u001b[1;32m      2\u001b[0m \u001b[0mobs\u001b[0m \u001b[0;34m=\u001b[0m \u001b[0menvs\u001b[0m\u001b[0;34m.\u001b[0m\u001b[0mreset\u001b[0m\u001b[0;34m(\u001b[0m\u001b[0;34m)\u001b[0m\u001b[0;34m\u001b[0m\u001b[0;34m\u001b[0m\u001b[0m\n\u001b[1;32m      3\u001b[0m eval_recurrent_hidden_states = torch.zeros(\n\u001b[0;32m----> 4\u001b[0;31m     num_processes, model.recurrent_hidden_state_size, device=device)\n\u001b[0m\u001b[1;32m      5\u001b[0m \u001b[0meval_masks\u001b[0m \u001b[0;34m=\u001b[0m \u001b[0mtorch\u001b[0m\u001b[0;34m.\u001b[0m\u001b[0mzeros\u001b[0m\u001b[0;34m(\u001b[0m\u001b[0mnum_processes\u001b[0m\u001b[0;34m,\u001b[0m \u001b[0;36m1\u001b[0m\u001b[0;34m,\u001b[0m \u001b[0mdevice\u001b[0m\u001b[0;34m=\u001b[0m\u001b[0mdevice\u001b[0m\u001b[0;34m)\u001b[0m\u001b[0;34m\u001b[0m\u001b[0;34m\u001b[0m\u001b[0m\n\u001b[1;32m      6\u001b[0m \u001b[0mi\u001b[0m \u001b[0;34m=\u001b[0m \u001b[0;36m0\u001b[0m\u001b[0;34m\u001b[0m\u001b[0;34m\u001b[0m\u001b[0m\n",
      "\u001b[0;31mAttributeError\u001b[0m: 'DQN' object has no attribute 'recurrent_hidden_state_size'"
     ]
    }
   ],
   "source": [
    "eval_episode_rewards = []\n",
    "obs = env.reset()\n",
    "eval_recurrent_hidden_states = torch.zeros(\n",
    "    num_processes, model.recurrent_hidden_state_size, device=device)\n",
    "eval_masks = torch.zeros(num_processes, 1, device=device)\n",
    "i = 0\n",
    "skip = 0\n",
    "rep_count = 0\n",
    "rep_l = []\n",
    "old_action = 99\n",
    "while len(eval_episode_rewards) < 1:\n",
    "    i+=1\n",
    "\n",
    "\n",
    "    \n",
    "    if skip == 0:\n",
    "        with torch.no_grad():\n",
    "            _, action, _, eval_recurrent_hidden_states = model.act(\n",
    "                obs,\n",
    "                eval_recurrent_hidden_states,\n",
    "                eval_masks,\n",
    "                deterministic=True)\n",
    "        old_action = action\n",
    "        skip = 3\n",
    "    else:\n",
    "        action = old_action\n",
    "        skip -= 1\n",
    "\n",
    "\n",
    "    #print(i, action)\n",
    "    # Obser reward and next obs\n",
    "    obs, reward, done, infos = envs.step(action)\n",
    "\n",
    "    eval_masks = torch.tensor(\n",
    "        [[0.0] if done_ else [1.0] for done_ in done],\n",
    "        dtype=torch.float32,\n",
    "        device=device)\n",
    "    #img_save_dir = img_dir + '{}.png'.format(i)\n",
    "    #plt.imsave( img_save_dir , obs[0][0])\n",
    "    \n",
    "    for info in infos:\n",
    "        if 'episode' in info.keys():\n",
    "            eval_episode_rewards.append(info['episode']['r'])\n",
    "\n",
    "envs.close()"
   ]
  },
  {
   "cell_type": "code",
   "execution_count": null,
   "metadata": {},
   "outputs": [],
   "source": []
  },
  {
   "cell_type": "code",
   "execution_count": null,
   "metadata": {},
   "outputs": [],
   "source": []
  },
  {
   "cell_type": "code",
   "execution_count": null,
   "metadata": {},
   "outputs": [],
   "source": []
  },
  {
   "cell_type": "code",
   "execution_count": null,
   "metadata": {},
   "outputs": [],
   "source": []
  },
  {
   "cell_type": "code",
   "execution_count": null,
   "metadata": {},
   "outputs": [],
   "source": []
  },
  {
   "cell_type": "code",
   "execution_count": null,
   "metadata": {},
   "outputs": [],
   "source": []
  },
  {
   "cell_type": "code",
   "execution_count": 43,
   "metadata": {},
   "outputs": [],
   "source": [
    "env_name = \"MsPacmanNoFrameskip-v4\"\n",
    "path = f\"./experiments/{env_name}/a2c/a2c_2/trained_models/{env_name}.pt\"\n",
    "seed = 1\n",
    "num_processes = 1\n",
    "eval_log_dir = './'\n",
    "device = \"cpu\"\n",
    "img_dir = './render_img/'\n",
    "actor_critic = torch.load(path, map_location=torch.device('cpu'))[0]"
   ]
  },
  {
   "cell_type": "code",
   "execution_count": 44,
   "metadata": {},
   "outputs": [],
   "source": [
    "envs = make_vec_envs(env_name, seed, num_processes, 0.99, eval_log_dir, device, False)\n",
    "eval_episode_rewards = []"
   ]
  },
  {
   "cell_type": "code",
   "execution_count": 45,
   "metadata": {},
   "outputs": [],
   "source": [
    "obs = envs.reset()\n",
    "eval_recurrent_hidden_states = torch.zeros(\n",
    "    num_processes, actor_critic.recurrent_hidden_state_size, device=device)\n",
    "eval_masks = torch.zeros(num_processes, 1, device=device)\n",
    "i = 0\n",
    "skip = 0\n",
    "rep_count = 0\n",
    "rep_l = []\n",
    "old_action = 99\n",
    "while len(eval_episode_rewards) < 1:\n",
    "    i+=1\n",
    "\n",
    "    '''with torch.no_grad():\n",
    "        _, action, _, eval_recurrent_hidden_states = actor_critic.act(\n",
    "            obs,\n",
    "            eval_recurrent_hidden_states,\n",
    "            eval_masks,\n",
    "            deterministic=True)\n",
    "    if old_action == action:\n",
    "        rep_count +=1\n",
    "    else:\n",
    "        if rep_count >0:\n",
    "            rep_l.append(rep_count)\n",
    "        rep_count = 0\n",
    "    \n",
    "    old_action = action'''\n",
    "\n",
    "\n",
    "    \n",
    "    if skip == 0:\n",
    "        with torch.no_grad():\n",
    "            _, action, _, eval_recurrent_hidden_states = actor_critic.act(\n",
    "                obs,\n",
    "                eval_recurrent_hidden_states,\n",
    "                eval_masks,\n",
    "                deterministic=True)\n",
    "        old_action = action\n",
    "        skip = 3\n",
    "    else:\n",
    "        action = old_action\n",
    "        skip -= 1\n",
    "\n",
    "\n",
    "    #print(i, action)\n",
    "    # Obser reward and next obs\n",
    "    obs, reward, done, infos = envs.step(action)\n",
    "\n",
    "    eval_masks = torch.tensor(\n",
    "        [[0.0] if done_ else [1.0] for done_ in done],\n",
    "        dtype=torch.float32,\n",
    "        device=device)\n",
    "    #img_save_dir = img_dir + '{}.png'.format(i)\n",
    "    #plt.imsave( img_save_dir , obs[0][0])\n",
    "    \n",
    "    for info in infos:\n",
    "        if 'episode' in info.keys():\n",
    "            eval_episode_rewards.append(info['episode']['r'])\n",
    "\n",
    "envs.close()"
   ]
  },
  {
   "cell_type": "code",
   "execution_count": 46,
   "metadata": {},
   "outputs": [
    {
     "name": "stdout",
     "output_type": "stream",
     "text": [
      " Evaluation using 1 episodes: mean reward 770.00000\n",
      "\n"
     ]
    }
   ],
   "source": [
    "print(\" Evaluation using {} episodes: mean reward {:.5f}\\n\".format(\n",
    "        len(eval_episode_rewards), np.mean(eval_episode_rewards)))"
   ]
  },
  {
   "cell_type": "code",
   "execution_count": 47,
   "metadata": {},
   "outputs": [
    {
     "data": {
      "text/plain": [
       "<BarContainer object of 0 artists>"
      ]
     },
     "execution_count": 47,
     "metadata": {},
     "output_type": "execute_result"
    },
    {
     "data": {
      "image/png": "[encoded data removed]",
      "text/plain": [
       "<Figure size 432x288 with 1 Axes>"
      ]
     },
     "metadata": {
      "needs_background": "light"
     },
     "output_type": "display_data"
    }
   ],
   "source": [
    "from collections import Counter\n",
    "w = Counter(rep_l)\n",
    "plt.bar(w.keys(), w.values())"
   ]
  },
  {
   "cell_type": "code",
   "execution_count": null,
   "metadata": {},
   "outputs": [],
   "source": []
  }
 ],
 "metadata": {
  "interpreter": {
   "hash": "9e7b5364a21053ac17f8a7b362bd086a5b8c0d62d27224356fb7b7059aee21a7"
  },
  "kernelspec": {
   "display_name": "Python 3.7.11 64-bit ('atari': conda)",
   "language": "python",
   "name": "python3"
  },
  "language_info": {
   "codemirror_mode": {
    "name": "ipython",
    "version": 3
   },
   "file_extension": ".py",
   "mimetype": "text/x-python",
   "name": "python",
   "nbconvert_exporter": "python",
   "pygments_lexer": "ipython3",
   "version": "3.7.11"
  },
  "orig_nbformat": 4
 },
 "nbformat": 4,
 "nbformat_minor": 2
}
