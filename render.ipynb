{
 "cells": [
  {
   "cell_type": "code",
   "execution_count": 50,
   "metadata": {},
   "outputs": [],
   "source": [
    "import copy\n",
    "import glob\n",
    "import os\n",
    "import time\n",
    "import datetime\n",
    "import csv\n",
    "import matplotlib.pyplot as plt\n",
    "from collections import deque\n",
    "\n",
    "import gym\n",
    "import numpy as np\n",
    "import torch\n",
    "import torch.nn as nn\n",
    "import torch.nn.functional as F\n",
    "import torch.optim as optim\n",
    "\n",
    "from a2c_ppo_acktr import algo, utils\n",
    "from a2c_ppo_acktr.algo import gail\n",
    "from a2c_ppo_acktr.arguments import get_args\n",
    "from a2c_ppo_acktr.envs import make_vec_envs\n",
    "from a2c_ppo_acktr.model import Policy, Bandit_Policy\n",
    "from a2c_ppo_acktr.storage import RolloutStorage, SkipReplayBuffer\n",
    "from evaluation import evaluate"
   ]
  },
  {
   "cell_type": "code",
   "execution_count": 66,
   "metadata": {},
   "outputs": [],
   "source": [
    "path = \"./experiments/BreakoutNoFrameskip-v4/b_a2c/20220103T193642.001956/trained_models/BreakoutNoFrameskip-v4.pt\""
   ]
  },
  {
   "cell_type": "code",
   "execution_count": 67,
   "metadata": {},
   "outputs": [
    {
     "ename": "RuntimeError",
     "evalue": "version_ <= kMaxSupportedFileFormatVersion INTERNAL ASSERT FAILED at /opt/conda/conda-bld/pytorch_1579022030672/work/caffe2/serialize/inline_container.cc:132, please report a bug to PyTorch. Attempted to read a PyTorch file with version 3, but the maximum supported version for reading is 2. Your PyTorch installation may be too old. (init at /opt/conda/conda-bld/pytorch_1579022030672/work/caffe2/serialize/inline_container.cc:132)\nframe #0: c10::Error::Error(c10::SourceLocation, std::string const&) + 0x47 (0x7fbf35df1627 in /home/jk/anaconda3/envs/atari/lib/python3.7/site-packages/torch/lib/libc10.so)\nframe #1: caffe2::serialize::PyTorchStreamReader::init() + 0x1f5b (0x7fbf37c88cbb in /home/jk/anaconda3/envs/atari/lib/python3.7/site-packages/torch/lib/libtorch.so)\nframe #2: caffe2::serialize::PyTorchStreamReader::PyTorchStreamReader(std::string const&) + 0x64 (0x7fbf37c89ed4 in /home/jk/anaconda3/envs/atari/lib/python3.7/site-packages/torch/lib/libtorch.so)\nframe #3: <unknown function> + 0x69e366 (0x7fbf3c029366 in /home/jk/anaconda3/envs/atari/lib/python3.7/site-packages/torch/lib/libtorch_python.so)\nframe #4: <unknown function> + 0x26b876 (0x7fbf3bbf6876 in /home/jk/anaconda3/envs/atari/lib/python3.7/site-packages/torch/lib/libtorch_python.so)\nframe #5: _PyMethodDef_RawFastCallDict + 0x24c (0x55573003571c in /home/jk/anaconda3/envs/atari/bin/python)\nframe #6: _PyObject_FastCallDict + 0x6e (0x555730005f5e in /home/jk/anaconda3/envs/atari/bin/python)\nframe #7: <unknown function> + 0x12f041 (0x55573001b041 in /home/jk/anaconda3/envs/atari/bin/python)\nframe #8: PyObject_Call + 0x66 (0x5557300067b6 in /home/jk/anaconda3/envs/atari/bin/python)\nframe #9: <unknown function> + 0xc239e (0x55572ffae39e in /home/jk/anaconda3/envs/atari/bin/python)\nframe #10: _PyObject_FastCallKeywords + 0x54c (0x55573006bc7c in /home/jk/anaconda3/envs/atari/bin/python)\nframe #11: <unknown function> + 0x1802d1 (0x55573006c2d1 in /home/jk/anaconda3/envs/atari/bin/python)\nframe #12: _PyEval_EvalFrameDefault + 0x48a2 (0x5557300b3602 in /home/jk/anaconda3/envs/atari/bin/python)\nframe #13: _PyEval_EvalCodeWithName + 0x79e (0x5557300050de in /home/jk/anaconda3/envs/atari/bin/python)\nframe #14: _PyObject_FastCallDict + 0x312 (0x555730006202 in /home/jk/anaconda3/envs/atari/bin/python)\nframe #15: <unknown function> + 0x186bef (0x555730072bef in /home/jk/anaconda3/envs/atari/bin/python)\nframe #16: _PyObject_FastCallKeywords + 0x54c (0x55573006bc7c in /home/jk/anaconda3/envs/atari/bin/python)\nframe #17: _PyEval_EvalFrameDefault + 0x47e5 (0x5557300b3545 in /home/jk/anaconda3/envs/atari/bin/python)\nframe #18: _PyEval_EvalCodeWithName + 0x273 (0x555730004bb3 in /home/jk/anaconda3/envs/atari/bin/python)\nframe #19: _PyFunction_FastCallKeywords + 0x693 (0x555730025223 in /home/jk/anaconda3/envs/atari/bin/python)\nframe #20: <unknown function> + 0x1800c5 (0x55573006c0c5 in /home/jk/anaconda3/envs/atari/bin/python)\nframe #21: _PyEval_EvalFrameDefault + 0x48a2 (0x5557300b3602 in /home/jk/anaconda3/envs/atari/bin/python)\nframe #22: _PyEval_EvalCodeWithName + 0x273 (0x555730004bb3 in /home/jk/anaconda3/envs/atari/bin/python)\nframe #23: <unknown function> + 0x1d751e (0x5557300c351e in /home/jk/anaconda3/envs/atari/bin/python)\nframe #24: _PyMethodDef_RawFastCallKeywords + 0xe9 (0x555730035959 in /home/jk/anaconda3/envs/atari/bin/python)\nframe #25: _PyEval_EvalFrameDefault + 0x44f8 (0x5557300b3258 in /home/jk/anaconda3/envs/atari/bin/python)\nframe #26: <unknown function> + 0x17f0b4 (0x55573006b0b4 in /home/jk/anaconda3/envs/atari/bin/python)\nframe #27: _PyEval_EvalFrameDefault + 0x19f1 (0x5557300b0751 in /home/jk/anaconda3/envs/atari/bin/python)\nframe #28: <unknown function> + 0x17f0b4 (0x55573006b0b4 in /home/jk/anaconda3/envs/atari/bin/python)\nframe #29: _PyEval_EvalFrameDefault + 0x19f1 (0x5557300b0751 in /home/jk/anaconda3/envs/atari/bin/python)\nframe #30: <unknown function> + 0x17f0b4 (0x55573006b0b4 in /home/jk/anaconda3/envs/atari/bin/python)\nframe #31: _PyMethodDescr_FastCallKeywords + 0xdb (0x55573006b46b in /home/jk/anaconda3/envs/atari/bin/python)\nframe #32: <unknown function> + 0x1801ae (0x55573006c1ae in /home/jk/anaconda3/envs/atari/bin/python)\nframe #33: _PyEval_EvalFrameDefault + 0x621 (0x5557300af381 in /home/jk/anaconda3/envs/atari/bin/python)\nframe #34: _PyFunction_FastCallKeywords + 0x187 (0x555730024d17 in /home/jk/anaconda3/envs/atari/bin/python)\nframe #35: _PyEval_EvalFrameDefault + 0x3f5 (0x5557300af155 in /home/jk/anaconda3/envs/atari/bin/python)\nframe #36: _PyFunction_FastCallKeywords + 0x187 (0x555730024d17 in /home/jk/anaconda3/envs/atari/bin/python)\nframe #37: <unknown function> + 0x1800c5 (0x55573006c0c5 in /home/jk/anaconda3/envs/atari/bin/python)\nframe #38: _PyEval_EvalFrameDefault + 0x621 (0x5557300af381 in /home/jk/anaconda3/envs/atari/bin/python)\nframe #39: _PyEval_EvalCodeWithName + 0x273 (0x555730004bb3 in /home/jk/anaconda3/envs/atari/bin/python)\nframe #40: _PyObject_FastCallDict + 0x5be (0x5557300064ae in /home/jk/anaconda3/envs/atari/bin/python)\nframe #41: <unknown function> + 0x12f041 (0x55573001b041 in /home/jk/anaconda3/envs/atari/bin/python)\nframe #42: PyObject_Call + 0x66 (0x5557300067b6 in /home/jk/anaconda3/envs/atari/bin/python)\nframe #43: _PyEval_EvalFrameDefault + 0x1d0d (0x5557300b0a6d in /home/jk/anaconda3/envs/atari/bin/python)\nframe #44: _PyEval_EvalCodeWithName + 0x79e (0x5557300050de in /home/jk/anaconda3/envs/atari/bin/python)\nframe #45: _PyFunction_FastCallKeywords + 0x693 (0x555730025223 in /home/jk/anaconda3/envs/atari/bin/python)\nframe #46: <unknown function> + 0x1800c5 (0x55573006c0c5 in /home/jk/anaconda3/envs/atari/bin/python)\nframe #47: _PyEval_EvalFrameDefault + 0x145c (0x5557300b01bc in /home/jk/anaconda3/envs/atari/bin/python)\nframe #48: <unknown function> + 0x17f0b4 (0x55573006b0b4 in /home/jk/anaconda3/envs/atari/bin/python)\nframe #49: _PyEval_EvalFrameDefault + 0x19f1 (0x5557300b0751 in /home/jk/anaconda3/envs/atari/bin/python)\nframe #50: <unknown function> + 0x17f0b4 (0x55573006b0b4 in /home/jk/anaconda3/envs/atari/bin/python)\nframe #51: _PyEval_EvalFrameDefault + 0x19f1 (0x5557300b0751 in /home/jk/anaconda3/envs/atari/bin/python)\nframe #52: <unknown function> + 0x17f0b4 (0x55573006b0b4 in /home/jk/anaconda3/envs/atari/bin/python)\nframe #53: _PyEval_EvalFrameDefault + 0x19f1 (0x5557300b0751 in /home/jk/anaconda3/envs/atari/bin/python)\nframe #54: <unknown function> + 0x17f0b4 (0x55573006b0b4 in /home/jk/anaconda3/envs/atari/bin/python)\nframe #55: _PyEval_EvalFrameDefault + 0x19f1 (0x5557300b0751 in /home/jk/anaconda3/envs/atari/bin/python)\nframe #56: <unknown function> + 0x17f0b4 (0x55573006b0b4 in /home/jk/anaconda3/envs/atari/bin/python)\nframe #57: <unknown function> + 0xadb9 (0x7fbff5454db9 in /home/jk/anaconda3/envs/atari/lib/python3.7/lib-dynload/_asyncio.cpython-37m-x86_64-linux-gnu.so)\nframe #58: _PyObject_FastCallKeywords + 0x15c (0x55573006b88c in /home/jk/anaconda3/envs/atari/bin/python)\nframe #59: <unknown function> + 0x212801 (0x5557300fe801 in /home/jk/anaconda3/envs/atari/bin/python)\nframe #60: _PyMethodDef_RawFastCallDict + 0x193 (0x555730035663 in /home/jk/anaconda3/envs/atari/bin/python)\nframe #61: _PyEval_EvalFrameDefault + 0x55ab (0x5557300b430b in /home/jk/anaconda3/envs/atari/bin/python)\nframe #62: _PyFunction_FastCallKeywords + 0x187 (0x555730024d17 in /home/jk/anaconda3/envs/atari/bin/python)\nframe #63: <unknown function> + 0x1800c5 (0x55573006c0c5 in /home/jk/anaconda3/envs/atari/bin/python)\n",
     "output_type": "error",
     "traceback": [
      "\u001b[0;31m---------------------------------------------------------------------------\u001b[0m",
      "\u001b[0;31mRuntimeError\u001b[0m                              Traceback (most recent call last)",
      "\u001b[0;32m/tmp/ipykernel_175949/1491577443.py\u001b[0m in \u001b[0;36m<module>\u001b[0;34m\u001b[0m\n\u001b[0;32m----> 1\u001b[0;31m \u001b[0mactor_critic\u001b[0m \u001b[0;34m=\u001b[0m \u001b[0mtorch\u001b[0m\u001b[0;34m.\u001b[0m\u001b[0mload\u001b[0m\u001b[0;34m(\u001b[0m\u001b[0mpath\u001b[0m\u001b[0;34m)\u001b[0m\u001b[0;34m[\u001b[0m\u001b[0;36m0\u001b[0m\u001b[0;34m]\u001b[0m\u001b[0;34m\u001b[0m\u001b[0;34m\u001b[0m\u001b[0m\n\u001b[0m\u001b[1;32m      2\u001b[0m \u001b[0menv_name\u001b[0m \u001b[0;34m=\u001b[0m \u001b[0;34m\"BreakoutNoFrameskip-v4\"\u001b[0m\u001b[0;34m\u001b[0m\u001b[0;34m\u001b[0m\u001b[0m\n\u001b[1;32m      3\u001b[0m \u001b[0mseed\u001b[0m \u001b[0;34m=\u001b[0m \u001b[0;36m123\u001b[0m\u001b[0;34m\u001b[0m\u001b[0;34m\u001b[0m\u001b[0m\n\u001b[1;32m      4\u001b[0m \u001b[0mnum_processes\u001b[0m \u001b[0;34m=\u001b[0m \u001b[0;36m1\u001b[0m\u001b[0;34m\u001b[0m\u001b[0;34m\u001b[0m\u001b[0m\n\u001b[1;32m      5\u001b[0m \u001b[0meval_log_dir\u001b[0m \u001b[0;34m=\u001b[0m \u001b[0;34m'./'\u001b[0m\u001b[0;34m\u001b[0m\u001b[0;34m\u001b[0m\u001b[0m\n",
      "\u001b[0;32m~/anaconda3/envs/atari/lib/python3.7/site-packages/torch/serialization.py\u001b[0m in \u001b[0;36mload\u001b[0;34m(f, map_location, pickle_module, **pickle_load_args)\u001b[0m\n\u001b[1;32m    525\u001b[0m     \u001b[0;32mwith\u001b[0m \u001b[0m_open_file_like\u001b[0m\u001b[0;34m(\u001b[0m\u001b[0mf\u001b[0m\u001b[0;34m,\u001b[0m \u001b[0;34m'rb'\u001b[0m\u001b[0;34m)\u001b[0m \u001b[0;32mas\u001b[0m \u001b[0mopened_file\u001b[0m\u001b[0;34m:\u001b[0m\u001b[0;34m\u001b[0m\u001b[0;34m\u001b[0m\u001b[0m\n\u001b[1;32m    526\u001b[0m         \u001b[0;32mif\u001b[0m \u001b[0m_is_zipfile\u001b[0m\u001b[0;34m(\u001b[0m\u001b[0mopened_file\u001b[0m\u001b[0;34m)\u001b[0m\u001b[0;34m:\u001b[0m\u001b[0;34m\u001b[0m\u001b[0;34m\u001b[0m\u001b[0m\n\u001b[0;32m--> 527\u001b[0;31m             \u001b[0;32mwith\u001b[0m \u001b[0m_open_zipfile_reader\u001b[0m\u001b[0;34m(\u001b[0m\u001b[0mf\u001b[0m\u001b[0;34m)\u001b[0m \u001b[0;32mas\u001b[0m \u001b[0mopened_zipfile\u001b[0m\u001b[0;34m:\u001b[0m\u001b[0;34m\u001b[0m\u001b[0;34m\u001b[0m\u001b[0m\n\u001b[0m\u001b[1;32m    528\u001b[0m                 \u001b[0;32mreturn\u001b[0m \u001b[0m_load\u001b[0m\u001b[0;34m(\u001b[0m\u001b[0mopened_zipfile\u001b[0m\u001b[0;34m,\u001b[0m \u001b[0mmap_location\u001b[0m\u001b[0;34m,\u001b[0m \u001b[0mpickle_module\u001b[0m\u001b[0;34m,\u001b[0m \u001b[0;34m**\u001b[0m\u001b[0mpickle_load_args\u001b[0m\u001b[0;34m)\u001b[0m\u001b[0;34m\u001b[0m\u001b[0;34m\u001b[0m\u001b[0m\n\u001b[1;32m    529\u001b[0m         \u001b[0;32mreturn\u001b[0m \u001b[0m_legacy_load\u001b[0m\u001b[0;34m(\u001b[0m\u001b[0mopened_file\u001b[0m\u001b[0;34m,\u001b[0m \u001b[0mmap_location\u001b[0m\u001b[0;34m,\u001b[0m \u001b[0mpickle_module\u001b[0m\u001b[0;34m,\u001b[0m \u001b[0;34m**\u001b[0m\u001b[0mpickle_load_args\u001b[0m\u001b[0;34m)\u001b[0m\u001b[0;34m\u001b[0m\u001b[0;34m\u001b[0m\u001b[0m\n",
      "\u001b[0;32m~/anaconda3/envs/atari/lib/python3.7/site-packages/torch/serialization.py\u001b[0m in \u001b[0;36m__init__\u001b[0;34m(self, name_or_buffer)\u001b[0m\n\u001b[1;32m    222\u001b[0m \u001b[0;32mclass\u001b[0m \u001b[0m_open_zipfile_reader\u001b[0m\u001b[0;34m(\u001b[0m\u001b[0m_opener\u001b[0m\u001b[0;34m)\u001b[0m\u001b[0;34m:\u001b[0m\u001b[0;34m\u001b[0m\u001b[0;34m\u001b[0m\u001b[0m\n\u001b[1;32m    223\u001b[0m     \u001b[0;32mdef\u001b[0m \u001b[0m__init__\u001b[0m\u001b[0;34m(\u001b[0m\u001b[0mself\u001b[0m\u001b[0;34m,\u001b[0m \u001b[0mname_or_buffer\u001b[0m\u001b[0;34m)\u001b[0m\u001b[0;34m:\u001b[0m\u001b[0;34m\u001b[0m\u001b[0;34m\u001b[0m\u001b[0m\n\u001b[0;32m--> 224\u001b[0;31m         \u001b[0msuper\u001b[0m\u001b[0;34m(\u001b[0m\u001b[0m_open_zipfile_reader\u001b[0m\u001b[0;34m,\u001b[0m \u001b[0mself\u001b[0m\u001b[0;34m)\u001b[0m\u001b[0;34m.\u001b[0m\u001b[0m__init__\u001b[0m\u001b[0;34m(\u001b[0m\u001b[0mtorch\u001b[0m\u001b[0;34m.\u001b[0m\u001b[0m_C\u001b[0m\u001b[0;34m.\u001b[0m\u001b[0mPyTorchFileReader\u001b[0m\u001b[0;34m(\u001b[0m\u001b[0mname_or_buffer\u001b[0m\u001b[0;34m)\u001b[0m\u001b[0;34m)\u001b[0m\u001b[0;34m\u001b[0m\u001b[0;34m\u001b[0m\u001b[0m\n\u001b[0m\u001b[1;32m    225\u001b[0m \u001b[0;34m\u001b[0m\u001b[0m\n\u001b[1;32m    226\u001b[0m \u001b[0;34m\u001b[0m\u001b[0m\n",
      "\u001b[0;31mRuntimeError\u001b[0m: version_ <= kMaxSupportedFileFormatVersion INTERNAL ASSERT FAILED at /opt/conda/conda-bld/pytorch_1579022030672/work/caffe2/serialize/inline_container.cc:132, please report a bug to PyTorch. Attempted to read a PyTorch file with version 3, but the maximum supported version for reading is 2. Your PyTorch installation may be too old. (init at /opt/conda/conda-bld/pytorch_1579022030672/work/caffe2/serialize/inline_container.cc:132)\nframe #0: c10::Error::Error(c10::SourceLocation, std::string const&) + 0x47 (0x7fbf35df1627 in /home/jk/anaconda3/envs/atari/lib/python3.7/site-packages/torch/lib/libc10.so)\nframe #1: caffe2::serialize::PyTorchStreamReader::init() + 0x1f5b (0x7fbf37c88cbb in /home/jk/anaconda3/envs/atari/lib/python3.7/site-packages/torch/lib/libtorch.so)\nframe #2: caffe2::serialize::PyTorchStreamReader::PyTorchStreamReader(std::string const&) + 0x64 (0x7fbf37c89ed4 in /home/jk/anaconda3/envs/atari/lib/python3.7/site-packages/torch/lib/libtorch.so)\nframe #3: <unknown function> + 0x69e366 (0x7fbf3c029366 in /home/jk/anaconda3/envs/atari/lib/python3.7/site-packages/torch/lib/libtorch_python.so)\nframe #4: <unknown function> + 0x26b876 (0x7fbf3bbf6876 in /home/jk/anaconda3/envs/atari/lib/python3.7/site-packages/torch/lib/libtorch_python.so)\nframe #5: _PyMethodDef_RawFastCallDict + 0x24c (0x55573003571c in /home/jk/anaconda3/envs/atari/bin/python)\nframe #6: _PyObject_FastCallDict + 0x6e (0x555730005f5e in /home/jk/anaconda3/envs/atari/bin/python)\nframe #7: <unknown function> + 0x12f041 (0x55573001b041 in /home/jk/anaconda3/envs/atari/bin/python)\nframe #8: PyObject_Call + 0x66 (0x5557300067b6 in /home/jk/anaconda3/envs/atari/bin/python)\nframe #9: <unknown function> + 0xc239e (0x55572ffae39e in /home/jk/anaconda3/envs/atari/bin/python)\nframe #10: _PyObject_FastCallKeywords + 0x54c (0x55573006bc7c in /home/jk/anaconda3/envs/atari/bin/python)\nframe #11: <unknown function> + 0x1802d1 (0x55573006c2d1 in /home/jk/anaconda3/envs/atari/bin/python)\nframe #12: _PyEval_EvalFrameDefault + 0x48a2 (0x5557300b3602 in /home/jk/anaconda3/envs/atari/bin/python)\nframe #13: _PyEval_EvalCodeWithName + 0x79e (0x5557300050de in /home/jk/anaconda3/envs/atari/bin/python)\nframe #14: _PyObject_FastCallDict + 0x312 (0x555730006202 in /home/jk/anaconda3/envs/atari/bin/python)\nframe #15: <unknown function> + 0x186bef (0x555730072bef in /home/jk/anaconda3/envs/atari/bin/python)\nframe #16: _PyObject_FastCallKeywords + 0x54c (0x55573006bc7c in /home/jk/anaconda3/envs/atari/bin/python)\nframe #17: _PyEval_EvalFrameDefault + 0x47e5 (0x5557300b3545 in /home/jk/anaconda3/envs/atari/bin/python)\nframe #18: _PyEval_EvalCodeWithName + 0x273 (0x555730004bb3 in /home/jk/anaconda3/envs/atari/bin/python)\nframe #19: _PyFunction_FastCallKeywords + 0x693 (0x555730025223 in /home/jk/anaconda3/envs/atari/bin/python)\nframe #20: <unknown function> + 0x1800c5 (0x55573006c0c5 in /home/jk/anaconda3/envs/atari/bin/python)\nframe #21: _PyEval_EvalFrameDefault + 0x48a2 (0x5557300b3602 in /home/jk/anaconda3/envs/atari/bin/python)\nframe #22: _PyEval_EvalCodeWithName + 0x273 (0x555730004bb3 in /home/jk/anaconda3/envs/atari/bin/python)\nframe #23: <unknown function> + 0x1d751e (0x5557300c351e in /home/jk/anaconda3/envs/atari/bin/python)\nframe #24: _PyMethodDef_RawFastCallKeywords + 0xe9 (0x555730035959 in /home/jk/anaconda3/envs/atari/bin/python)\nframe #25: _PyEval_EvalFrameDefault + 0x44f8 (0x5557300b3258 in /home/jk/anaconda3/envs/atari/bin/python)\nframe #26: <unknown function> + 0x17f0b4 (0x55573006b0b4 in /home/jk/anaconda3/envs/atari/bin/python)\nframe #27: _PyEval_EvalFrameDefault + 0x19f1 (0x5557300b0751 in /home/jk/anaconda3/envs/atari/bin/python)\nframe #28: <unknown function> + 0x17f0b4 (0x55573006b0b4 in /home/jk/anaconda3/envs/atari/bin/python)\nframe #29: _PyEval_EvalFrameDefault + 0x19f1 (0x5557300b0751 in /home/jk/anaconda3/envs/atari/bin/python)\nframe #30: <unknown function> + 0x17f0b4 (0x55573006b0b4 in /home/jk/anaconda3/envs/atari/bin/python)\nframe #31: _PyMethodDescr_FastCallKeywords + 0xdb (0x55573006b46b in /home/jk/anaconda3/envs/atari/bin/python)\nframe #32: <unknown function> + 0x1801ae (0x55573006c1ae in /home/jk/anaconda3/envs/atari/bin/python)\nframe #33: _PyEval_EvalFrameDefault + 0x621 (0x5557300af381 in /home/jk/anaconda3/envs/atari/bin/python)\nframe #34: _PyFunction_FastCallKeywords + 0x187 (0x555730024d17 in /home/jk/anaconda3/envs/atari/bin/python)\nframe #35: _PyEval_EvalFrameDefault + 0x3f5 (0x5557300af155 in /home/jk/anaconda3/envs/atari/bin/python)\nframe #36: _PyFunction_FastCallKeywords + 0x187 (0x555730024d17 in /home/jk/anaconda3/envs/atari/bin/python)\nframe #37: <unknown function> + 0x1800c5 (0x55573006c0c5 in /home/jk/anaconda3/envs/atari/bin/python)\nframe #38: _PyEval_EvalFrameDefault + 0x621 (0x5557300af381 in /home/jk/anaconda3/envs/atari/bin/python)\nframe #39: _PyEval_EvalCodeWithName + 0x273 (0x555730004bb3 in /home/jk/anaconda3/envs/atari/bin/python)\nframe #40: _PyObject_FastCallDict + 0x5be (0x5557300064ae in /home/jk/anaconda3/envs/atari/bin/python)\nframe #41: <unknown function> + 0x12f041 (0x55573001b041 in /home/jk/anaconda3/envs/atari/bin/python)\nframe #42: PyObject_Call + 0x66 (0x5557300067b6 in /home/jk/anaconda3/envs/atari/bin/python)\nframe #43: _PyEval_EvalFrameDefault + 0x1d0d (0x5557300b0a6d in /home/jk/anaconda3/envs/atari/bin/python)\nframe #44: _PyEval_EvalCodeWithName + 0x79e (0x5557300050de in /home/jk/anaconda3/envs/atari/bin/python)\nframe #45: _PyFunction_FastCallKeywords + 0x693 (0x555730025223 in /home/jk/anaconda3/envs/atari/bin/python)\nframe #46: <unknown function> + 0x1800c5 (0x55573006c0c5 in /home/jk/anaconda3/envs/atari/bin/python)\nframe #47: _PyEval_EvalFrameDefault + 0x145c (0x5557300b01bc in /home/jk/anaconda3/envs/atari/bin/python)\nframe #48: <unknown function> + 0x17f0b4 (0x55573006b0b4 in /home/jk/anaconda3/envs/atari/bin/python)\nframe #49: _PyEval_EvalFrameDefault + 0x19f1 (0x5557300b0751 in /home/jk/anaconda3/envs/atari/bin/python)\nframe #50: <unknown function> + 0x17f0b4 (0x55573006b0b4 in /home/jk/anaconda3/envs/atari/bin/python)\nframe #51: _PyEval_EvalFrameDefault + 0x19f1 (0x5557300b0751 in /home/jk/anaconda3/envs/atari/bin/python)\nframe #52: <unknown function> + 0x17f0b4 (0x55573006b0b4 in /home/jk/anaconda3/envs/atari/bin/python)\nframe #53: _PyEval_EvalFrameDefault + 0x19f1 (0x5557300b0751 in /home/jk/anaconda3/envs/atari/bin/python)\nframe #54: <unknown function> + 0x17f0b4 (0x55573006b0b4 in /home/jk/anaconda3/envs/atari/bin/python)\nframe #55: _PyEval_EvalFrameDefault + 0x19f1 (0x5557300b0751 in /home/jk/anaconda3/envs/atari/bin/python)\nframe #56: <unknown function> + 0x17f0b4 (0x55573006b0b4 in /home/jk/anaconda3/envs/atari/bin/python)\nframe #57: <unknown function> + 0xadb9 (0x7fbff5454db9 in /home/jk/anaconda3/envs/atari/lib/python3.7/lib-dynload/_asyncio.cpython-37m-x86_64-linux-gnu.so)\nframe #58: _PyObject_FastCallKeywords + 0x15c (0x55573006b88c in /home/jk/anaconda3/envs/atari/bin/python)\nframe #59: <unknown function> + 0x212801 (0x5557300fe801 in /home/jk/anaconda3/envs/atari/bin/python)\nframe #60: _PyMethodDef_RawFastCallDict + 0x193 (0x555730035663 in /home/jk/anaconda3/envs/atari/bin/python)\nframe #61: _PyEval_EvalFrameDefault + 0x55ab (0x5557300b430b in /home/jk/anaconda3/envs/atari/bin/python)\nframe #62: _PyFunction_FastCallKeywords + 0x187 (0x555730024d17 in /home/jk/anaconda3/envs/atari/bin/python)\nframe #63: <unknown function> + 0x1800c5 (0x55573006c0c5 in /home/jk/anaconda3/envs/atari/bin/python)\n"
     ]
    }
   ],
   "source": [
    "actor_critic = torch.load(path)[0]\n",
    "env_name = \"BreakoutNoFrameskip-v4\"\n",
    "seed = 123\n",
    "num_processes = 1\n",
    "eval_log_dir = './'\n",
    "device = \"cpu\"\n",
    "img_dir = './render_img/'"
   ]
  },
  {
   "cell_type": "code",
   "execution_count": 61,
   "metadata": {},
   "outputs": [],
   "source": [
    "envs = make_vec_envs(env_name, seed, num_processes, 0.99, eval_log_dir, device, False)"
   ]
  },
  {
   "cell_type": "code",
   "execution_count": 64,
   "metadata": {},
   "outputs": [
    {
     "name": "stdout",
     "output_type": "stream",
     "text": [
      "./render_img/1.png\n",
      "./render_img/2.png\n",
      "./render_img/3.png\n",
      "./render_img/4.png\n",
      "./render_img/5.png\n",
      "./render_img/6.png\n",
      "./render_img/7.png\n",
      "./render_img/8.png\n",
      "./render_img/9.png\n",
      "./render_img/10.png\n",
      "./render_img/11.png\n",
      "./render_img/12.png\n",
      "./render_img/13.png\n",
      "./render_img/14.png\n",
      "./render_img/15.png\n",
      "./render_img/16.png\n",
      "./render_img/17.png\n",
      "./render_img/18.png\n",
      "./render_img/19.png\n",
      "./render_img/20.png\n",
      "./render_img/21.png\n",
      "./render_img/22.png\n",
      "./render_img/23.png\n",
      "./render_img/24.png\n",
      "./render_img/25.png\n",
      "./render_img/26.png\n",
      "./render_img/27.png\n",
      "./render_img/28.png\n",
      "./render_img/29.png\n",
      "./render_img/30.png\n",
      "./render_img/31.png\n",
      "./render_img/32.png\n",
      "./render_img/33.png\n",
      "./render_img/34.png\n",
      "./render_img/35.png\n",
      "./render_img/36.png\n",
      "./render_img/37.png\n",
      "./render_img/38.png\n",
      "./render_img/39.png\n",
      "./render_img/40.png\n",
      "./render_img/41.png\n",
      "./render_img/42.png\n",
      "./render_img/43.png\n",
      "./render_img/44.png\n",
      "./render_img/45.png\n",
      "./render_img/46.png\n",
      "./render_img/47.png\n",
      "./render_img/48.png\n",
      "./render_img/49.png\n",
      "./render_img/50.png\n",
      "./render_img/51.png\n",
      "./render_img/52.png\n",
      "./render_img/53.png\n",
      "./render_img/54.png\n",
      "./render_img/55.png\n",
      "./render_img/56.png\n",
      "./render_img/57.png\n",
      "./render_img/58.png\n",
      "./render_img/59.png\n",
      "./render_img/60.png\n",
      "./render_img/61.png\n",
      "./render_img/62.png\n",
      "./render_img/63.png\n",
      "./render_img/64.png\n",
      "./render_img/65.png\n",
      "./render_img/66.png\n",
      "./render_img/67.png\n",
      "./render_img/68.png\n",
      "./render_img/69.png\n",
      "./render_img/70.png\n",
      "./render_img/71.png\n",
      "./render_img/72.png\n",
      "./render_img/73.png\n",
      "./render_img/74.png\n",
      "./render_img/75.png\n",
      "./render_img/76.png\n",
      "./render_img/77.png\n",
      "./render_img/78.png\n",
      "./render_img/79.png\n",
      "./render_img/80.png\n",
      "./render_img/81.png\n",
      "./render_img/82.png\n",
      "./render_img/83.png\n",
      "./render_img/84.png\n",
      "./render_img/85.png\n",
      "./render_img/86.png\n",
      "./render_img/87.png\n",
      "./render_img/88.png\n",
      "./render_img/89.png\n",
      "./render_img/90.png\n",
      "./render_img/91.png\n",
      "./render_img/92.png\n",
      "./render_img/93.png\n",
      "./render_img/94.png\n",
      "./render_img/95.png\n",
      "./render_img/96.png\n",
      "./render_img/97.png\n",
      "./render_img/98.png\n",
      "./render_img/99.png\n",
      "./render_img/100.png\n",
      "./render_img/101.png\n",
      "./render_img/102.png\n",
      "./render_img/103.png\n",
      "./render_img/104.png\n",
      "./render_img/105.png\n",
      "./render_img/106.png\n",
      "./render_img/107.png\n"
     ]
    }
   ],
   "source": [
    "eval_episode_rewards = []\n",
    "\n",
    "obs = envs.reset()\n",
    "eval_recurrent_hidden_states = torch.zeros(\n",
    "    num_processes, actor_critic.recurrent_hidden_state_size, device=device)\n",
    "eval_masks = torch.zeros(num_processes, 1, device=device)\n",
    "i = 0\n",
    "while len(eval_episode_rewards) < 1:\n",
    "    i+=1\n",
    "    with torch.no_grad():\n",
    "        _, action, _, eval_recurrent_hidden_states = actor_critic.act(\n",
    "            obs,\n",
    "            eval_recurrent_hidden_states,\n",
    "            eval_masks,\n",
    "            deterministic=True)\n",
    "\n",
    "    # Obser reward and next obs\n",
    "    obs, _, done, infos = envs.step(action)\n",
    "    img_save_dir = img_dir + '{}.png'.format(i)\n",
    "    plt.imsave( img_save_dir , obs[0][0])\n",
    "\n",
    "    eval_masks = torch.tensor(\n",
    "        [[0.0] if done_ else [1.0] for done_ in done],\n",
    "        dtype=torch.float32,\n",
    "        device=device)\n",
    "\n",
    "    for info in infos:\n",
    "        if 'episode' in info.keys():\n",
    "            eval_episode_rewards.append(info['episode']['r'])\n",
    "\n",
    "envs.close()"
   ]
  },
  {
   "cell_type": "code",
   "execution_count": 65,
   "metadata": {},
   "outputs": [
    {
     "name": "stdout",
     "output_type": "stream",
     "text": [
      " Evaluation using 1 episodes: mean reward 0.00000\n",
      "\n"
     ]
    }
   ],
   "source": [
    "print(\" Evaluation using {} episodes: mean reward {:.5f}\\n\".format(\n",
    "        len(eval_episode_rewards), np.mean(eval_episode_rewards)))"
   ]
  },
  {
   "cell_type": "code",
   "execution_count": null,
   "metadata": {},
   "outputs": [],
   "source": []
  }
 ],
 "metadata": {
  "interpreter": {
   "hash": "9e7b5364a21053ac17f8a7b362bd086a5b8c0d62d27224356fb7b7059aee21a7"
  },
  "kernelspec": {
   "display_name": "Python 3.7.11 64-bit ('atari': conda)",
   "language": "python",
   "name": "python3"
  },
  "language_info": {
   "codemirror_mode": {
    "name": "ipython",
    "version": 3
   },
   "file_extension": ".py",
   "mimetype": "text/x-python",
   "name": "python",
   "nbconvert_exporter": "python",
   "pygments_lexer": "ipython3",
   "version": "3.7.11"
  },
  "orig_nbformat": 4
 },
 "nbformat": 4,
 "nbformat_minor": 2
}
